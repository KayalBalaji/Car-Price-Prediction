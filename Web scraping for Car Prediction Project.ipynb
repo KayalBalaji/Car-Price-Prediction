{
 "cells": [
  {
   "cell_type": "markdown",
   "id": "704df652",
   "metadata": {},
   "source": [
    "# Car Price Prediction Project Data Collection"
   ]
  },
  {
   "cell_type": "code",
   "execution_count": 55,
   "id": "33e36aba",
   "metadata": {},
   "outputs": [],
   "source": [
    "import selenium\n",
    "import pandas as pd\n",
    "import numpy as np\n",
    "import warnings\n",
    "warnings.filterwarnings('ignore')\n",
    "import time\n",
    "from bs4 import BeautifulSoup\n",
    "from selenium import webdriver \n",
    "import requests\n",
    "import re\n",
    "from selenium.webdriver.support.ui import WebDriverWait\n",
    "from selenium.common.exceptions import StaleElementReferenceException, NoSuchElementException"
   ]
  },
  {
   "cell_type": "code",
   "execution_count": 57,
   "id": "d2c44fc2",
   "metadata": {},
   "outputs": [],
   "source": [
    "driver=webdriver.Chrome(r\"C:\\Users\\Hello world\\Downloads\\chromedriver_win32\\chromedriver.exe\")"
   ]
  },
  {
   "cell_type": "code",
   "execution_count": 58,
   "id": "ba618299",
   "metadata": {},
   "outputs": [],
   "source": [
    "# Getting the webpage of mentioned url\n",
    "url = \"https://www.cardekho.com/used-cars+in+india#usedCarCity\"\n",
    "driver.get(url)\n",
    "time.sleep(3)"
   ]
  },
  {
   "cell_type": "code",
   "execution_count": 60,
   "id": "8231514b",
   "metadata": {},
   "outputs": [],
   "source": [
    "# Fetching urls to navigate location page\n",
    "cities = driver.find_elements(By.XPATH,\"//ul[@class='listing gsc_col-md-12 gsc_col-lg-12']//li/a\")"
   ]
  },
  {
   "cell_type": "code",
   "execution_count": 61,
   "id": "22e5d528",
   "metadata": {},
   "outputs": [],
   "source": [
    "# Creating empty list and getting links for locations\n",
    "city = []\n",
    "for i in cities:\n",
    "    city.append(i.get_attribute('href'))"
   ]
  },
  {
   "cell_type": "code",
   "execution_count": 62,
   "id": "062696a1",
   "metadata": {},
   "outputs": [
    {
     "data": {
      "text/plain": [
       "['https://www.cardekho.com/used-cars+in+ahmedabad',\n",
       " 'https://www.cardekho.com/used-cars+in+bangalore',\n",
       " 'https://www.cardekho.com/used-cars+in+mumbai',\n",
       " 'https://www.cardekho.com/used-cars+in+jaipur',\n",
       " 'https://www.cardekho.com/used-cars+in+gurgaon',\n",
       " 'https://www.cardekho.com/used-cars+in+delhi-ncr',\n",
       " 'https://www.cardekho.com/used-cars+in+chennai',\n",
       " 'https://www.cardekho.com/used-cars+in+pune',\n",
       " 'https://www.cardekho.com/used-cars+in+hyderabad',\n",
       " 'https://www.cardekho.com/used-cars+in+kolkata',\n",
       " 'https://www.cardekho.com/used-cars+in+agra',\n",
       " 'https://www.cardekho.com/used-cars+in+lucknow']"
      ]
     },
     "execution_count": 62,
     "metadata": {},
     "output_type": "execute_result"
    }
   ],
   "source": [
    "city"
   ]
  },
  {
   "cell_type": "code",
   "execution_count": 63,
   "id": "c3ddf216",
   "metadata": {},
   "outputs": [],
   "source": [
    "# Creating empty lists for scraping data\n",
    "Car_brand = []\n",
    "car_price = []\n",
    "kms_driven = []\n",
    "fuel = []\n",
    "transmission = []\n",
    "city_url = []\n",
    "car_urls = []"
   ]
  },
  {
   "cell_type": "code",
   "execution_count": 64,
   "id": "6f72cacd",
   "metadata": {},
   "outputs": [],
   "source": [
    "for i in city:\n",
    "    driver.get(i)\n",
    "    time.sleep(3)\n",
    "    \n",
    "    for _ in range(150):\n",
    "        time.sleep(1)\n",
    "        driver.execute_script(\"window.scrollBy(0,1000)\")\n",
    "    current_url = driver.current_url    \n",
    "    car = driver.find_elements(By.XPATH,'//div[@class=\"gsc_col-xs-12 gsc_col-sm-6 gsc_col-md-4 cardColumn\"]/a')\n",
    "    for i in car:\n",
    "        car_urls.append(i.get_attribute('href'))        # saving all the car urls for further information collecting purposes   \n",
    "        \n",
    "    # Fetching car brand and location urls of the used cars\n",
    "    for i in driver.find_elements(By.XPATH,\"//div[@class='gsc_col-xs-7  carsName']/a\"):\n",
    "        Car_brand.append(i.text)\n",
    "        city_url.append(current_url)\n",
    "    \n",
    "    # Fetching price of the cars\n",
    "    for i in driver.find_elements(By.XPATH,\"//span[@class='amnt ']\"):\n",
    "        car_price.append(i.text)\n",
    "    \n",
    "    # Fetching driven kilometers of the used cars\n",
    "    for i in driver.find_elements(By.XPATH,\"//div[@class='dotsDetails']//div[1]\"):\n",
    "        kms_driven.append(i.text)\n",
    "    \n",
    "    # Fetching fuel type of the cars\n",
    "    for i in driver.find_elements(By.XPATH,\"//div[@class='dotsDetails']//div[2]\"):\n",
    "        fuel.append(i.text)\n",
    "    \n",
    "    # Fetching transmission of the cars\n",
    "    for i in driver.find_elements(By.XPATH,\"//div[@class='dotsDetails']//div[3]\"):\n",
    "        transmission.append(i.text)"
   ]
  },
  {
   "cell_type": "code",
   "execution_count": 66,
   "id": "8a4ca051",
   "metadata": {},
   "outputs": [],
   "source": [
    "# Creating empty list to scrap the specification of the used cars\n",
    "seats = []\n",
    "engine_disp = []\n",
    "milage = []\n",
    "color = []\n",
    "max_power = []\n",
    "front_brake = []\n",
    "rear_brake = []\n",
    "cargo_vol = []\n",
    "height = []\n",
    "width = []\n",
    "length = []\n",
    "weight = []\n",
    "insp_score = []\n",
    "top_speed = []"
   ]
  },
  {
   "cell_type": "code",
   "execution_count": 67,
   "id": "9847a933",
   "metadata": {},
   "outputs": [],
   "source": [
    "# for loop to get car urls\n",
    "for i in car_urls:\n",
    "    driver.get(i)\n",
    "    time.sleep(2)\n",
    "    \n",
    "    # Clicking on view all specifications button to view more features of the cars\n",
    "    try:\n",
    "        view_more = driver.find_element(By.XPATH,\"//*[text() = 'View All Specifications' or text() = 'View More']\")\n",
    "        driver.execute_script(\"arguments[0].scrollIntoView();\", view_more)\n",
    "        driver.execute_script(\"arguments[0].click();\", view_more)\n",
    "        time.sleep(2)\n",
    "    except NoSuchElementException:\n",
    "        pass\n",
    "    \n",
    "    # Fetching engine displacement of the cars\n",
    "    try:\n",
    "        eng = driver.find_element(By.XPATH,\"//*[text()='Engine']/following-sibling::div\") \n",
    "        engine_disp.append(eng.text.replace('CC',''))\n",
    "    except NoSuchElementException:\n",
    "        engine_disp.append('-')\n",
    "    \n",
    "    # Fetching Mileage of the cars\n",
    "    try:\n",
    "        mil = driver.find_element(By.XPATH,\"//*[text()='Mileage']/following-sibling::div\")\n",
    "        milage.append(mil.text)\n",
    "    except NoSuchElementException:\n",
    "        milage.append('-')\n",
    "        \n",
    "    # Fetching seating capacity of the cars\n",
    "    try:\n",
    "        sts = driver.find_element(By.XPATH,\"//*[text()='Seating Capacity']/following-sibling::div\")\n",
    "        seats.append(sts.text)\n",
    "    except NoSuchElementException:\n",
    "        seats.append('-')\n",
    "        \n",
    "    # Fetching colour of the cars\n",
    "    try:\n",
    "        clr = driver.find_element(By.XPATH,\"//*[text()='Color']/following-sibling::div\")\n",
    "        color.append(clr.text)\n",
    "    except NoSuchElementException:\n",
    "        color.append('-')\n",
    "        \n",
    "    # Fetching Maximum power of the cars\n",
    "    try:\n",
    "        pwr = driver.find_element(By.XPATH,\"//*[text()='Max Power']/following-sibling::div\")\n",
    "        max_power.append(pwr.text.replace('bhp',''))\n",
    "    except NoSuchElementException:\n",
    "        max_power.append('-')\n",
    "        \n",
    "    # Fetching Front brake type of the cars\n",
    "    try:\n",
    "        fbrk = driver.find_element(By.XPATH,\"//*[text()='Front Brake Type']/following-sibling::div\")\n",
    "        front_brake.append(fbrk.text)\n",
    "    except NoSuchElementException:\n",
    "        front_brake.append('-')\n",
    "        \n",
    "    # Fetching rear brake type of the cars\n",
    "    try:\n",
    "        rbrk = driver.find_element(By.XPATH,\"//*[text()='Rear Brake Type']/following-sibling::div\")\n",
    "        rear_brake.append(rbrk.text)\n",
    "    except NoSuchElementException:\n",
    "        rear_brake.append('-')\n",
    "        \n",
    "    # Fetching details of cargo volume of the cars\n",
    "    try:\n",
    "        vol = driver.find_element(By.XPATH,\"//*[text()='Cargo Volumn']/following-sibling::div\")\n",
    "        cargo_vol.append(vol.text)\n",
    "    except NoSuchElementException:\n",
    "        cargo_vol.append('-')\n",
    "        \n",
    "    # Fetching top speed of the cars\n",
    "    try:\n",
    "        speed = driver.find_element(By.XPATH,\"//*[text()='Top Speed']/following-sibling::div\")\n",
    "        top_speed.append(speed.text)\n",
    "    except NoSuchElementException:\n",
    "        top_speed.append('-')\n",
    "        \n",
    "    # Fetching height of the cars\n",
    "    try:\n",
    "        hgt = driver.find_element(By.XPATH,\"//*[text()='Height']/following-sibling::div\")\n",
    "        height.append(hgt.text.replace('mm',''))\n",
    "    except NoSuchElementException:\n",
    "        height.append('-')\n",
    "        \n",
    "    # Fetching width of the cars\n",
    "    try:\n",
    "        wth = driver.find_element_by_xpath(\"//*[text()='Width']/following-sibling::div\")\n",
    "        width.append(wth.text.replace('mm',''))\n",
    "    except NoSuchElementException:\n",
    "        width.append('-')\n",
    "        \n",
    "    # Fetching length of the cars\n",
    "    try:\n",
    "        lth = driver.find_element(By.XPATH,\"//*[text()='Length']/following-sibling::div\")\n",
    "        length.append(lth.text.replace('mm',''))\n",
    "    except NoSuchElementException:\n",
    "        length.append('-')\n",
    "        \n",
    "    # Fetching gross weight of the cars\n",
    "    try:\n",
    "        weigh = driver.find_element(By.XPATH,\"//*[text()='Gross Weight']/following-sibling::div\")\n",
    "        weight.append(weigh.text.replace('kg',''))\n",
    "    except NoSuchElementException:\n",
    "        weight.append('-')\n",
    "        \n",
    "    # Fetching Inspection score of the cars\n",
    "    try:\n",
    "        insp = driver.find_element(By.XPATH,\"//div[@class='inspectionRating right-side gsc_col-xs-5 text-right']/span\")\n",
    "        insp_score.append(insp.text)\n",
    "    except NoSuchElementException:\n",
    "        insp_score.append('-')"
   ]
  },
  {
   "cell_type": "code",
   "execution_count": 71,
   "id": "91702d5c",
   "metadata": {},
   "outputs": [],
   "source": [
    "data = list(zip(Car_brand,fuel,kms_driven,engine_disp,transmission,milage,seats,color,max_power,front_brake,rear_brake,cargo_vol,height,width,length,weight,insp_score,top_speed,city_url,car_price)),\n",
    "df = pd.DataFrame(data)"
   ]
  },
  {
   "cell_type": "code",
   "execution_count": 72,
   "id": "2c4eb902",
   "metadata": {},
   "outputs": [],
   "source": [
    "# Saving the scraped data into excel file\n",
    "df.to_excel(\"Used_Cars.xlsx\")"
   ]
  },
  {
   "cell_type": "code",
   "execution_count": 73,
   "id": "00322a1c",
   "metadata": {},
   "outputs": [],
   "source": [
    "driver.close()"
   ]
  },
  {
   "cell_type": "code",
   "execution_count": null,
   "id": "10978fa0",
   "metadata": {},
   "outputs": [],
   "source": []
  },
  {
   "cell_type": "code",
   "execution_count": null,
   "id": "bd201cd0",
   "metadata": {},
   "outputs": [],
   "source": []
  },
  {
   "cell_type": "code",
   "execution_count": null,
   "id": "2c9a7800",
   "metadata": {},
   "outputs": [],
   "source": []
  },
  {
   "cell_type": "code",
   "execution_count": null,
   "id": "89c73a45",
   "metadata": {},
   "outputs": [],
   "source": []
  },
  {
   "cell_type": "code",
   "execution_count": null,
   "id": "69245482",
   "metadata": {},
   "outputs": [],
   "source": []
  },
  {
   "cell_type": "code",
   "execution_count": null,
   "id": "0aa916f5",
   "metadata": {},
   "outputs": [],
   "source": []
  },
  {
   "cell_type": "code",
   "execution_count": null,
   "id": "2daa2dd6",
   "metadata": {},
   "outputs": [],
   "source": []
  },
  {
   "cell_type": "code",
   "execution_count": null,
   "id": "2a56fd6b",
   "metadata": {},
   "outputs": [],
   "source": []
  },
  {
   "cell_type": "code",
   "execution_count": null,
   "id": "ca92be65",
   "metadata": {},
   "outputs": [],
   "source": []
  },
  {
   "cell_type": "code",
   "execution_count": 44,
   "id": "97d17e22",
   "metadata": {},
   "outputs": [],
   "source": []
  },
  {
   "cell_type": "code",
   "execution_count": null,
   "id": "dae8e107",
   "metadata": {},
   "outputs": [],
   "source": []
  },
  {
   "cell_type": "code",
   "execution_count": null,
   "id": "fdcb94c2",
   "metadata": {},
   "outputs": [],
   "source": []
  },
  {
   "cell_type": "code",
   "execution_count": null,
   "id": "62d8ab4c",
   "metadata": {},
   "outputs": [],
   "source": []
  },
  {
   "cell_type": "code",
   "execution_count": null,
   "id": "ddffcdbf",
   "metadata": {},
   "outputs": [],
   "source": []
  },
  {
   "cell_type": "code",
   "execution_count": null,
   "id": "fd170c27",
   "metadata": {},
   "outputs": [],
   "source": []
  },
  {
   "cell_type": "code",
   "execution_count": null,
   "id": "9cef8b2b",
   "metadata": {},
   "outputs": [],
   "source": []
  },
  {
   "cell_type": "code",
   "execution_count": null,
   "id": "856e3870",
   "metadata": {},
   "outputs": [],
   "source": []
  },
  {
   "cell_type": "code",
   "execution_count": null,
   "id": "02e41b1f",
   "metadata": {},
   "outputs": [],
   "source": []
  }
 ],
 "metadata": {
  "kernelspec": {
   "display_name": "Python 3 (ipykernel)",
   "language": "python",
   "name": "python3"
  },
  "language_info": {
   "codemirror_mode": {
    "name": "ipython",
    "version": 3
   },
   "file_extension": ".py",
   "mimetype": "text/x-python",
   "name": "python",
   "nbconvert_exporter": "python",
   "pygments_lexer": "ipython3",
   "version": "3.9.12"
  }
 },
 "nbformat": 4,
 "nbformat_minor": 5
}
